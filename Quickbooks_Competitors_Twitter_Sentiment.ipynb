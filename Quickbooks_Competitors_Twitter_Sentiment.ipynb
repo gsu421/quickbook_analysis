{
 "cells": [
  {
   "cell_type": "code",
   "execution_count": 16,
   "metadata": {
    "collapsed": true
   },
   "outputs": [],
   "source": [
    "import tweepy\n",
    "import json\n",
    "import numpy as np\n",
    "import pandas as pd\n",
    "import matplotlib.pyplot as plt\n",
    "import seaborn as sns\n",
    "from textblob import TextBlob\n",
    "import time\n",
    "import datetime\n",
    "from collections import Counter\n",
    "\n",
    "# Import and Initialize Sentiment Analyzer\n",
    "from vaderSentiment.vaderSentiment import SentimentIntensityAnalyzer\n",
    "analyzer = SentimentIntensityAnalyzer()\n",
    "\n",
    "consumer_key = \"Kw6QdU3K6aevWMo7cmOxzThLD\"\n",
    "consumer_secret = \"dyMMRVQaDsvJZoBrZGdy1zlk1tHGlgcjijFNhT13oKc3GqJFPy\"\n",
    "access_token = \"75068443-RZcsP8ypDdOiQWrQyqiMLic7cgvknrlO6DG5FqAry\"\n",
    "access_token_secret = \"Loky5gOKJ3EpYPoYXdDkuOI2BpMKnp7N9cJPq7F1Yxp11\"\n",
    "\n",
    "auth = tweepy.OAuthHandler(consumer_key, consumer_secret)\n",
    "auth.set_access_token(access_token, access_token_secret)\n",
    "api = tweepy.API(auth, parser=tweepy.parsers.JSONParser())"
   ]
  },
  {
   "cell_type": "code",
   "execution_count": 17,
   "metadata": {
    "collapsed": true
   },
   "outputs": [],
   "source": [
    "public_tweets = api.search(target, count=100, result_type=\"recent\")"
   ]
  },
  {
   "cell_type": "markdown",
   "metadata": {},
   "source": [
    "## Search 1500 Tweets on Quickboos and its Competitors"
   ]
  },
  {
   "cell_type": "code",
   "execution_count": 18,
   "metadata": {},
   "outputs": [],
   "source": [
    "# Target Search Term\n",
    "target_terms = (\"@QuickBooks\", \"@ZohoBooks\", \"@Xero\")\n",
    "\n",
    "# \"Real Person\" Filters\n",
    "min_tweets = 5\n",
    "max_tweets = 10000\n",
    "max_followers = 2500\n",
    "max_following = 2500\n",
    "lang = \"en\"\n",
    "\n",
    "# Array to hold sentiment\n",
    "sentiments = []\n",
    "\n",
    "# Loop through all target users\n",
    "for target in target_terms:\n",
    "    \n",
    "    # Defining a counter\n",
    "    counter = 1\n",
    "\n",
    "    # Loop through 15 times\n",
    "    for x in range(15):\n",
    "\n",
    "        # Run search around each tweet\n",
    "        public_tweets = api.search(target, count=100, result_type=\"recent\")\n",
    "\n",
    "        # Loop through all tweets\n",
    "        for tweet in public_tweets[\"statuses\"]:\n",
    "            \n",
    "            # Use filters to check if user meets conditions\n",
    "            if (tweet[\"user\"][\"followers_count\"] < max_followers and\n",
    "                    tweet[\"user\"][\"statuses_count\"] > min_tweets and\n",
    "                    tweet[\"user\"][\"statuses_count\"] < max_tweets and\n",
    "                    tweet[\"user\"][\"friends_count\"] < max_following and\n",
    "                    tweet[\"user\"][\"lang\"] == lang):\n",
    "\n",
    "                # Run Vader Analysis on each tweet\n",
    "                compound = analyzer.polarity_scores(tweet[\"text\"])[\"compound\"]\n",
    "                pos = analyzer.polarity_scores(tweet[\"text\"])[\"pos\"]\n",
    "                neu = analyzer.polarity_scores(tweet[\"text\"])[\"neu\"]\n",
    "                neg = analyzer.polarity_scores(tweet[\"text\"])[\"neg\"]\n",
    "                tweets_ago = counter\n",
    "                \n",
    "                # Conversion of actual timestamp\n",
    "                raw_time = tweet[\"created_at\"]\n",
    "                converted_time = datetime.datetime.strptime(raw_time, \"%a %b %d %H:%M:%S %z %Y\")\n",
    "                time_format = converted_time.strftime(\"%Y-%m-%d\")\n",
    "                \n",
    "                # Store all the sentiments\n",
    "                try:\n",
    "                    sentiments.append({\"Source Account\": tweet['entities']['user_mentions'][0]['name'],\n",
    "                                       \"Products\": target,\n",
    "                                       \"Actual Date\": tweet[\"created_at\"],\n",
    "                                       \"Date\": time_format,\n",
    "                                       \"Tweet Polarity\": compound,\n",
    "                                       \"Positive\": pos,\n",
    "                                       \"Neutral\": neu,\n",
    "                                       \"Negative\": neg,\n",
    "                                       \"Tweets Ago\": counter})\n",
    "                except:\n",
    "                    continue\n",
    "\n",
    "                # Add to counter \n",
    "                counter = counter + 1"
   ]
  },
  {
   "cell_type": "markdown",
   "metadata": {},
   "source": [
    "## Calculate the Sentiment Average"
   ]
  },
  {
   "cell_type": "code",
   "execution_count": 19,
   "metadata": {},
   "outputs": [
    {
     "data": {
      "text/html": [
       "<div>\n",
       "<table border=\"1\" class=\"dataframe\">\n",
       "  <thead>\n",
       "    <tr style=\"text-align: right;\">\n",
       "      <th></th>\n",
       "      <th>Actual Date</th>\n",
       "      <th>Date</th>\n",
       "      <th>Negative</th>\n",
       "      <th>Neutral</th>\n",
       "      <th>Positive</th>\n",
       "      <th>Products</th>\n",
       "      <th>Source Account</th>\n",
       "      <th>Tweet Polarity</th>\n",
       "      <th>Tweets Ago</th>\n",
       "    </tr>\n",
       "  </thead>\n",
       "  <tbody>\n",
       "    <tr>\n",
       "      <th>0</th>\n",
       "      <td>Thu Jan 18 06:00:49 +0000 2018</td>\n",
       "      <td>2018-01-18</td>\n",
       "      <td>0.0</td>\n",
       "      <td>0.441</td>\n",
       "      <td>0.559</td>\n",
       "      <td>@QuickBooks</td>\n",
       "      <td>Hubdoc</td>\n",
       "      <td>0.5859</td>\n",
       "      <td>1</td>\n",
       "    </tr>\n",
       "    <tr>\n",
       "      <th>1</th>\n",
       "      <td>Thu Jan 18 04:43:47 +0000 2018</td>\n",
       "      <td>2018-01-18</td>\n",
       "      <td>0.0</td>\n",
       "      <td>1.000</td>\n",
       "      <td>0.000</td>\n",
       "      <td>@QuickBooks</td>\n",
       "      <td>Arshaad Mohamed</td>\n",
       "      <td>0.0000</td>\n",
       "      <td>2</td>\n",
       "    </tr>\n",
       "    <tr>\n",
       "      <th>2</th>\n",
       "      <td>Thu Jan 18 04:34:39 +0000 2018</td>\n",
       "      <td>2018-01-18</td>\n",
       "      <td>0.0</td>\n",
       "      <td>1.000</td>\n",
       "      <td>0.000</td>\n",
       "      <td>@QuickBooks</td>\n",
       "      <td>Amjad</td>\n",
       "      <td>0.0000</td>\n",
       "      <td>3</td>\n",
       "    </tr>\n",
       "    <tr>\n",
       "      <th>3</th>\n",
       "      <td>Thu Jan 18 04:31:18 +0000 2018</td>\n",
       "      <td>2018-01-18</td>\n",
       "      <td>0.0</td>\n",
       "      <td>0.610</td>\n",
       "      <td>0.390</td>\n",
       "      <td>@QuickBooks</td>\n",
       "      <td>Arshaad Mohamed</td>\n",
       "      <td>0.4926</td>\n",
       "      <td>4</td>\n",
       "    </tr>\n",
       "    <tr>\n",
       "      <th>4</th>\n",
       "      <td>Thu Jan 18 04:03:13 +0000 2018</td>\n",
       "      <td>2018-01-18</td>\n",
       "      <td>0.0</td>\n",
       "      <td>0.744</td>\n",
       "      <td>0.256</td>\n",
       "      <td>@QuickBooks</td>\n",
       "      <td>Intuit QuickBooks</td>\n",
       "      <td>0.6705</td>\n",
       "      <td>5</td>\n",
       "    </tr>\n",
       "  </tbody>\n",
       "</table>\n",
       "</div>"
      ],
      "text/plain": [
       "                      Actual Date        Date  Negative  Neutral  Positive  \\\n",
       "0  Thu Jan 18 06:00:49 +0000 2018  2018-01-18       0.0    0.441     0.559   \n",
       "1  Thu Jan 18 04:43:47 +0000 2018  2018-01-18       0.0    1.000     0.000   \n",
       "2  Thu Jan 18 04:34:39 +0000 2018  2018-01-18       0.0    1.000     0.000   \n",
       "3  Thu Jan 18 04:31:18 +0000 2018  2018-01-18       0.0    0.610     0.390   \n",
       "4  Thu Jan 18 04:03:13 +0000 2018  2018-01-18       0.0    0.744     0.256   \n",
       "\n",
       "      Products     Source Account  Tweet Polarity  Tweets Ago  \n",
       "0  @QuickBooks             Hubdoc          0.5859           1  \n",
       "1  @QuickBooks    Arshaad Mohamed          0.0000           2  \n",
       "2  @QuickBooks              Amjad          0.0000           3  \n",
       "3  @QuickBooks    Arshaad Mohamed          0.4926           4  \n",
       "4  @QuickBooks  Intuit QuickBooks          0.6705           5  "
      ]
     },
     "execution_count": 19,
     "metadata": {},
     "output_type": "execute_result"
    }
   ],
   "source": [
    "sentiments_pd = pd.DataFrame(sentiments)\n",
    "sentiments_pd.head()"
   ]
  },
  {
   "cell_type": "code",
   "execution_count": 20,
   "metadata": {},
   "outputs": [
    {
     "data": {
      "text/html": [
       "<div>\n",
       "<table border=\"1\" class=\"dataframe\">\n",
       "  <thead>\n",
       "    <tr style=\"text-align: right;\">\n",
       "      <th></th>\n",
       "      <th>Products</th>\n",
       "      <th>Tweet Polarity</th>\n",
       "    </tr>\n",
       "  </thead>\n",
       "  <tbody>\n",
       "    <tr>\n",
       "      <th>0</th>\n",
       "      <td>@QuickBooks</td>\n",
       "      <td>0.294070</td>\n",
       "    </tr>\n",
       "    <tr>\n",
       "      <th>1</th>\n",
       "      <td>@Xero</td>\n",
       "      <td>0.229171</td>\n",
       "    </tr>\n",
       "    <tr>\n",
       "      <th>2</th>\n",
       "      <td>@ZohoBooks</td>\n",
       "      <td>0.149786</td>\n",
       "    </tr>\n",
       "  </tbody>\n",
       "</table>\n",
       "</div>"
      ],
      "text/plain": [
       "      Products  Tweet Polarity\n",
       "0  @QuickBooks        0.294070\n",
       "1        @Xero        0.229171\n",
       "2   @ZohoBooks        0.149786"
      ]
     },
     "execution_count": 20,
     "metadata": {},
     "output_type": "execute_result"
    }
   ],
   "source": [
    "sentiments_groupby = sentiments_pd.groupby(['Products'])\n",
    "sentiments_mean = sentiments_groupby['Tweet Polarity'].mean()\n",
    "sentiments_final = pd.DataFrame(sentiments_mean).reset_index()\n",
    "sentiments_final.head()"
   ]
  },
  {
   "cell_type": "code",
   "execution_count": 21,
   "metadata": {
    "collapsed": true
   },
   "outputs": [],
   "source": [
    "# Output a csv file for analyze\n",
    "sentiments_pd.to_csv(\"quickbook_competitors_tweet_data.csv\")"
   ]
  },
  {
   "cell_type": "markdown",
   "metadata": {},
   "source": [
    "## Visualize Sentiments on Bar and Scatter Plot"
   ]
  },
  {
   "cell_type": "code",
   "execution_count": 22,
   "metadata": {},
   "outputs": [
    {
     "data": {
      "image/png": "[encoded data removed]",
      "text/plain": [
       "<matplotlib.figure.Figure at 0x1a19089198>"
      ]
     },
     "metadata": {},
     "output_type": "display_data"
    }
   ],
   "source": [
    "import seaborn as sns\n",
    "\n",
    "sns.set(style='whitegrid', color_codes=True)\n",
    "# tips = sns.load_dataset(sentiment_avg_pd)\n",
    "# sns.barplot(x='Products', y = 'Compound', data = tips)\n",
    "\n",
    "sns.barplot(x=sentiments_final['Products'], y = sentiments_final['Tweet Polarity'] , \n",
    "            )\n",
    "plt.title(\"Overall Quickbook vs Competitors Sentiment based on Twitter (%s)\" %datetime.date.today())\n",
    "\n",
    "plt.show()"
   ]
  },
  {
   "cell_type": "code",
   "execution_count": 23,
   "metadata": {
    "scrolled": true
   },
   "outputs": [
    {
     "ename": "KeyError",
     "evalue": "\"['Media Sources'] not in index\"",
     "output_type": "error",
     "traceback": [
      "\u001b[0;31m---------------------------------------------------------------------------\u001b[0m",
      "\u001b[0;31mKeyError\u001b[0m                                  Traceback (most recent call last)",
      "\u001b[0;32m<ipython-input-23-eaedc6a18daa>\u001b[0m in \u001b[0;36m<module>\u001b[0;34m()\u001b[0m\n\u001b[1;32m     13\u001b[0m            \u001b[0mlegend_out\u001b[0m\u001b[0;34m=\u001b[0m\u001b[0;32mFalse\u001b[0m\u001b[0;34m,\u001b[0m \u001b[0mlegend\u001b[0m\u001b[0;34m=\u001b[0m\u001b[0;32mTrue\u001b[0m\u001b[0;34m,\u001b[0m\u001b[0;34m\u001b[0m\u001b[0m\n\u001b[1;32m     14\u001b[0m            \u001b[0mscatter_kws\u001b[0m\u001b[0;34m=\u001b[0m\u001b[0;34m{\u001b[0m\u001b[0;34m\"s\"\u001b[0m\u001b[0;34m:\u001b[0m\u001b[0;36m150\u001b[0m\u001b[0;34m,\u001b[0m \u001b[0;34m'alpha'\u001b[0m\u001b[0;34m:\u001b[0m\u001b[0;36m.55\u001b[0m\u001b[0;34m,\u001b[0m \u001b[0;34m'edgecolors'\u001b[0m\u001b[0;34m:\u001b[0m\u001b[0;34m\"black\"\u001b[0m\u001b[0;34m,\u001b[0m \u001b[0;34m'linewidth'\u001b[0m\u001b[0;34m:\u001b[0m\u001b[0;36m1\u001b[0m\u001b[0;34m}\u001b[0m\u001b[0;34m,\u001b[0m\u001b[0;34m\u001b[0m\u001b[0m\n\u001b[0;32m---> 15\u001b[0;31m                                 fit_reg=False, palette=clrlist)\n\u001b[0m\u001b[1;32m     16\u001b[0m \u001b[0mplt\u001b[0m\u001b[0;34m.\u001b[0m\u001b[0mxlim\u001b[0m\u001b[0;34m(\u001b[0m\u001b[0;36m400\u001b[0m\u001b[0;34m,\u001b[0m\u001b[0;34m-\u001b[0m\u001b[0;36m2\u001b[0m\u001b[0;34m)\u001b[0m\u001b[0;34m\u001b[0m\u001b[0m\n\u001b[1;32m     17\u001b[0m \u001b[0mplt\u001b[0m\u001b[0;34m.\u001b[0m\u001b[0mtitle\u001b[0m\u001b[0;34m(\u001b[0m\u001b[0;34m\"Sentiment Analysis of Media Tweets: %s\"\u001b[0m \u001b[0;34m%\u001b[0m \u001b[0mtime\u001b[0m\u001b[0;34m.\u001b[0m\u001b[0mstrftime\u001b[0m\u001b[0;34m(\u001b[0m\u001b[0;34m'%x'\u001b[0m\u001b[0;34m)\u001b[0m\u001b[0;34m,\u001b[0m \u001b[0mfontsize\u001b[0m\u001b[0;34m=\u001b[0m\u001b[0;36m18\u001b[0m\u001b[0;34m)\u001b[0m\u001b[0;34m\u001b[0m\u001b[0m\n",
      "\u001b[0;32m~/anaconda3/envs/PythonData/lib/python3.6/site-packages/seaborn/regression.py\u001b[0m in \u001b[0;36mlmplot\u001b[0;34m(x, y, data, hue, col, row, palette, col_wrap, size, aspect, markers, sharex, sharey, hue_order, col_order, row_order, legend, legend_out, x_estimator, x_bins, x_ci, scatter, fit_reg, ci, n_boot, units, order, logistic, lowess, robust, logx, x_partial, y_partial, truncate, x_jitter, y_jitter, scatter_kws, line_kws)\u001b[0m\n\u001b[1;32m    550\u001b[0m     \u001b[0mneed_cols\u001b[0m \u001b[0;34m=\u001b[0m \u001b[0;34m[\u001b[0m\u001b[0mx\u001b[0m\u001b[0;34m,\u001b[0m \u001b[0my\u001b[0m\u001b[0;34m,\u001b[0m \u001b[0mhue\u001b[0m\u001b[0;34m,\u001b[0m \u001b[0mcol\u001b[0m\u001b[0;34m,\u001b[0m \u001b[0mrow\u001b[0m\u001b[0;34m,\u001b[0m \u001b[0munits\u001b[0m\u001b[0;34m,\u001b[0m \u001b[0mx_partial\u001b[0m\u001b[0;34m,\u001b[0m \u001b[0my_partial\u001b[0m\u001b[0;34m]\u001b[0m\u001b[0;34m\u001b[0m\u001b[0m\n\u001b[1;32m    551\u001b[0m     \u001b[0mcols\u001b[0m \u001b[0;34m=\u001b[0m \u001b[0mnp\u001b[0m\u001b[0;34m.\u001b[0m\u001b[0munique\u001b[0m\u001b[0;34m(\u001b[0m\u001b[0;34m[\u001b[0m\u001b[0ma\u001b[0m \u001b[0;32mfor\u001b[0m \u001b[0ma\u001b[0m \u001b[0;32min\u001b[0m \u001b[0mneed_cols\u001b[0m \u001b[0;32mif\u001b[0m \u001b[0ma\u001b[0m \u001b[0;32mis\u001b[0m \u001b[0;32mnot\u001b[0m \u001b[0;32mNone\u001b[0m\u001b[0;34m]\u001b[0m\u001b[0;34m)\u001b[0m\u001b[0;34m.\u001b[0m\u001b[0mtolist\u001b[0m\u001b[0;34m(\u001b[0m\u001b[0;34m)\u001b[0m\u001b[0;34m\u001b[0m\u001b[0m\n\u001b[0;32m--> 552\u001b[0;31m     \u001b[0mdata\u001b[0m \u001b[0;34m=\u001b[0m \u001b[0mdata\u001b[0m\u001b[0;34m[\u001b[0m\u001b[0mcols\u001b[0m\u001b[0;34m]\u001b[0m\u001b[0;34m\u001b[0m\u001b[0m\n\u001b[0m\u001b[1;32m    553\u001b[0m \u001b[0;34m\u001b[0m\u001b[0m\n\u001b[1;32m    554\u001b[0m     \u001b[0;31m# Initialize the grid\u001b[0m\u001b[0;34m\u001b[0m\u001b[0;34m\u001b[0m\u001b[0m\n",
      "\u001b[0;32m~/anaconda3/envs/PythonData/lib/python3.6/site-packages/pandas/core/frame.py\u001b[0m in \u001b[0;36m__getitem__\u001b[0;34m(self, key)\u001b[0m\n\u001b[1;32m   1989\u001b[0m         \u001b[0;32mif\u001b[0m \u001b[0misinstance\u001b[0m\u001b[0;34m(\u001b[0m\u001b[0mkey\u001b[0m\u001b[0;34m,\u001b[0m \u001b[0;34m(\u001b[0m\u001b[0mSeries\u001b[0m\u001b[0;34m,\u001b[0m \u001b[0mnp\u001b[0m\u001b[0;34m.\u001b[0m\u001b[0mndarray\u001b[0m\u001b[0;34m,\u001b[0m \u001b[0mIndex\u001b[0m\u001b[0;34m,\u001b[0m \u001b[0mlist\u001b[0m\u001b[0;34m)\u001b[0m\u001b[0;34m)\u001b[0m\u001b[0;34m:\u001b[0m\u001b[0;34m\u001b[0m\u001b[0m\n\u001b[1;32m   1990\u001b[0m             \u001b[0;31m# either boolean or fancy integer index\u001b[0m\u001b[0;34m\u001b[0m\u001b[0;34m\u001b[0m\u001b[0m\n\u001b[0;32m-> 1991\u001b[0;31m             \u001b[0;32mreturn\u001b[0m \u001b[0mself\u001b[0m\u001b[0;34m.\u001b[0m\u001b[0m_getitem_array\u001b[0m\u001b[0;34m(\u001b[0m\u001b[0mkey\u001b[0m\u001b[0;34m)\u001b[0m\u001b[0;34m\u001b[0m\u001b[0m\n\u001b[0m\u001b[1;32m   1992\u001b[0m         \u001b[0;32melif\u001b[0m \u001b[0misinstance\u001b[0m\u001b[0;34m(\u001b[0m\u001b[0mkey\u001b[0m\u001b[0;34m,\u001b[0m \u001b[0mDataFrame\u001b[0m\u001b[0;34m)\u001b[0m\u001b[0;34m:\u001b[0m\u001b[0;34m\u001b[0m\u001b[0m\n\u001b[1;32m   1993\u001b[0m             \u001b[0;32mreturn\u001b[0m \u001b[0mself\u001b[0m\u001b[0;34m.\u001b[0m\u001b[0m_getitem_frame\u001b[0m\u001b[0;34m(\u001b[0m\u001b[0mkey\u001b[0m\u001b[0;34m)\u001b[0m\u001b[0;34m\u001b[0m\u001b[0m\n",
      "\u001b[0;32m~/anaconda3/envs/PythonData/lib/python3.6/site-packages/pandas/core/frame.py\u001b[0m in \u001b[0;36m_getitem_array\u001b[0;34m(self, key)\u001b[0m\n\u001b[1;32m   2033\u001b[0m             \u001b[0;32mreturn\u001b[0m \u001b[0mself\u001b[0m\u001b[0;34m.\u001b[0m\u001b[0mtake\u001b[0m\u001b[0;34m(\u001b[0m\u001b[0mindexer\u001b[0m\u001b[0;34m,\u001b[0m \u001b[0maxis\u001b[0m\u001b[0;34m=\u001b[0m\u001b[0;36m0\u001b[0m\u001b[0;34m,\u001b[0m \u001b[0mconvert\u001b[0m\u001b[0;34m=\u001b[0m\u001b[0;32mFalse\u001b[0m\u001b[0;34m)\u001b[0m\u001b[0;34m\u001b[0m\u001b[0m\n\u001b[1;32m   2034\u001b[0m         \u001b[0;32melse\u001b[0m\u001b[0;34m:\u001b[0m\u001b[0;34m\u001b[0m\u001b[0m\n\u001b[0;32m-> 2035\u001b[0;31m             \u001b[0mindexer\u001b[0m \u001b[0;34m=\u001b[0m \u001b[0mself\u001b[0m\u001b[0;34m.\u001b[0m\u001b[0mix\u001b[0m\u001b[0;34m.\u001b[0m\u001b[0m_convert_to_indexer\u001b[0m\u001b[0;34m(\u001b[0m\u001b[0mkey\u001b[0m\u001b[0;34m,\u001b[0m \u001b[0maxis\u001b[0m\u001b[0;34m=\u001b[0m\u001b[0;36m1\u001b[0m\u001b[0;34m)\u001b[0m\u001b[0;34m\u001b[0m\u001b[0m\n\u001b[0m\u001b[1;32m   2036\u001b[0m             \u001b[0;32mreturn\u001b[0m \u001b[0mself\u001b[0m\u001b[0;34m.\u001b[0m\u001b[0mtake\u001b[0m\u001b[0;34m(\u001b[0m\u001b[0mindexer\u001b[0m\u001b[0;34m,\u001b[0m \u001b[0maxis\u001b[0m\u001b[0;34m=\u001b[0m\u001b[0;36m1\u001b[0m\u001b[0;34m,\u001b[0m \u001b[0mconvert\u001b[0m\u001b[0;34m=\u001b[0m\u001b[0;32mTrue\u001b[0m\u001b[0;34m)\u001b[0m\u001b[0;34m\u001b[0m\u001b[0m\n\u001b[1;32m   2037\u001b[0m \u001b[0;34m\u001b[0m\u001b[0m\n",
      "\u001b[0;32m~/anaconda3/envs/PythonData/lib/python3.6/site-packages/pandas/core/indexing.py\u001b[0m in \u001b[0;36m_convert_to_indexer\u001b[0;34m(self, obj, axis, is_setter)\u001b[0m\n\u001b[1;32m   1212\u001b[0m                 \u001b[0mmask\u001b[0m \u001b[0;34m=\u001b[0m \u001b[0mcheck\u001b[0m \u001b[0;34m==\u001b[0m \u001b[0;34m-\u001b[0m\u001b[0;36m1\u001b[0m\u001b[0;34m\u001b[0m\u001b[0m\n\u001b[1;32m   1213\u001b[0m                 \u001b[0;32mif\u001b[0m \u001b[0mmask\u001b[0m\u001b[0;34m.\u001b[0m\u001b[0many\u001b[0m\u001b[0;34m(\u001b[0m\u001b[0;34m)\u001b[0m\u001b[0;34m:\u001b[0m\u001b[0;34m\u001b[0m\u001b[0m\n\u001b[0;32m-> 1214\u001b[0;31m                     \u001b[0;32mraise\u001b[0m \u001b[0mKeyError\u001b[0m\u001b[0;34m(\u001b[0m\u001b[0;34m'%s not in index'\u001b[0m \u001b[0;34m%\u001b[0m \u001b[0mobjarr\u001b[0m\u001b[0;34m[\u001b[0m\u001b[0mmask\u001b[0m\u001b[0;34m]\u001b[0m\u001b[0;34m)\u001b[0m\u001b[0;34m\u001b[0m\u001b[0m\n\u001b[0m\u001b[1;32m   1215\u001b[0m \u001b[0;34m\u001b[0m\u001b[0m\n\u001b[1;32m   1216\u001b[0m                 \u001b[0;32mreturn\u001b[0m \u001b[0m_values_from_object\u001b[0m\u001b[0;34m(\u001b[0m\u001b[0mindexer\u001b[0m\u001b[0;34m)\u001b[0m\u001b[0;34m\u001b[0m\u001b[0m\n",
      "\u001b[0;31mKeyError\u001b[0m: \"['Media Sources'] not in index\""
     ]
    }
   ],
   "source": [
    "#create lmplot using seasborn\n",
    "\n",
    "#set colorlist for charts\n",
    "clrlist = [\"#82acf9\", \"#0f55aa\", \"#e00b0b\"]\n",
    "#clrlist = [\"#82acf9\", \"#e00b0b\"]\n",
    "\n",
    "#sns.set_palette(clrlist)\n",
    "sns.color_palette(clrlist)\n",
    "\n",
    "#create chart\n",
    "MediaTweetAnalysis = sns.lmplot(x=\"Tweets Ago\", y=\"Tweet Polarity\", data=sentiments_pd, \n",
    "           hue=\"Media Sources\", size=7, aspect=1.4,\n",
    "           legend_out=False, legend=True, \n",
    "           scatter_kws={\"s\":150, 'alpha':.55, 'edgecolors':\"black\", 'linewidth':1}, \n",
    "                                fit_reg=False, palette=clrlist)\n",
    "plt.xlim(400,-2)\n",
    "plt.title(\"Sentiment Analysis of Media Tweets: %s\" % time.strftime('%x'), fontsize=18)\n",
    "plt.legend(bbox_to_anchor=(1, 1), ncol=1, title=\"Media Sources\", fontsize=12)\n",
    "plt.show(MediaTweetAnalysis)"
   ]
  },
  {
   "cell_type": "markdown",
   "metadata": {},
   "source": [
    "## Delete"
   ]
  },
  {
   "cell_type": "code",
   "execution_count": 23,
   "metadata": {
    "scrolled": true
   },
   "outputs": [
    {
     "data": {
      "text/html": [
       "<div>\n",
       "<table border=\"1\" class=\"dataframe\">\n",
       "  <thead>\n",
       "    <tr style=\"text-align: right;\">\n",
       "      <th></th>\n",
       "      <th>Media Sources</th>\n",
       "      <th>Tweet Polarity</th>\n",
       "    </tr>\n",
       "  </thead>\n",
       "  <tbody>\n",
       "    <tr>\n",
       "      <th>0</th>\n",
       "      <td>@QuickBooks</td>\n",
       "      <td>0.151676</td>\n",
       "    </tr>\n",
       "    <tr>\n",
       "      <th>1</th>\n",
       "      <td>@WaveHQ</td>\n",
       "      <td>0.489773</td>\n",
       "    </tr>\n",
       "    <tr>\n",
       "      <th>2</th>\n",
       "      <td>@Xero</td>\n",
       "      <td>0.296693</td>\n",
       "    </tr>\n",
       "    <tr>\n",
       "      <th>3</th>\n",
       "      <td>@ZohoBooks</td>\n",
       "      <td>0.149786</td>\n",
       "    </tr>\n",
       "  </tbody>\n",
       "</table>\n",
       "</div>"
      ],
      "text/plain": [
       "  Media Sources  Tweet Polarity\n",
       "0   @QuickBooks        0.151676\n",
       "1       @WaveHQ        0.489773\n",
       "2         @Xero        0.296693\n",
       "3    @ZohoBooks        0.149786"
      ]
     },
     "execution_count": 23,
     "metadata": {},
     "output_type": "execute_result"
    }
   ],
   "source": [
    "sentiments_final.head()"
   ]
  },
  {
   "cell_type": "code",
   "execution_count": 24,
   "metadata": {
    "scrolled": true
   },
   "outputs": [
    {
     "data": {
      "text/html": [
       "<div>\n",
       "<table border=\"1\" class=\"dataframe\">\n",
       "  <thead>\n",
       "    <tr style=\"text-align: right;\">\n",
       "      <th></th>\n",
       "      <th>Actual Date</th>\n",
       "      <th>Date</th>\n",
       "      <th>Media Sources</th>\n",
       "      <th>Negative</th>\n",
       "      <th>Neutral</th>\n",
       "      <th>Positive</th>\n",
       "      <th>Source Account</th>\n",
       "      <th>Tweet Polarity</th>\n",
       "      <th>Tweets Ago</th>\n",
       "    </tr>\n",
       "  </thead>\n",
       "  <tbody>\n",
       "    <tr>\n",
       "      <th>0</th>\n",
       "      <td>Wed Jan 17 07:22:25 +0000 2018</td>\n",
       "      <td>2018-01-17</td>\n",
       "      <td>@QuickBooks</td>\n",
       "      <td>0.100</td>\n",
       "      <td>0.667</td>\n",
       "      <td>0.233</td>\n",
       "      <td>Lake Michigan CU</td>\n",
       "      <td>0.3818</td>\n",
       "      <td>1</td>\n",
       "    </tr>\n",
       "    <tr>\n",
       "      <th>1</th>\n",
       "      <td>Wed Jan 17 07:08:30 +0000 2018</td>\n",
       "      <td>2018-01-17</td>\n",
       "      <td>@QuickBooks</td>\n",
       "      <td>0.147</td>\n",
       "      <td>0.650</td>\n",
       "      <td>0.203</td>\n",
       "      <td>Intuit QuickBooks</td>\n",
       "      <td>0.3147</td>\n",
       "      <td>2</td>\n",
       "    </tr>\n",
       "    <tr>\n",
       "      <th>2</th>\n",
       "      <td>Wed Jan 17 06:59:22 +0000 2018</td>\n",
       "      <td>2018-01-17</td>\n",
       "      <td>@QuickBooks</td>\n",
       "      <td>0.000</td>\n",
       "      <td>1.000</td>\n",
       "      <td>0.000</td>\n",
       "      <td>Craig W Smalley EA</td>\n",
       "      <td>0.0000</td>\n",
       "      <td>3</td>\n",
       "    </tr>\n",
       "    <tr>\n",
       "      <th>3</th>\n",
       "      <td>Wed Jan 17 06:58:59 +0000 2018</td>\n",
       "      <td>2018-01-17</td>\n",
       "      <td>@QuickBooks</td>\n",
       "      <td>0.000</td>\n",
       "      <td>0.813</td>\n",
       "      <td>0.187</td>\n",
       "      <td>Intuit QuickBooks</td>\n",
       "      <td>0.5994</td>\n",
       "      <td>4</td>\n",
       "    </tr>\n",
       "    <tr>\n",
       "      <th>4</th>\n",
       "      <td>Wed Jan 17 05:36:15 +0000 2018</td>\n",
       "      <td>2018-01-17</td>\n",
       "      <td>@QuickBooks</td>\n",
       "      <td>0.000</td>\n",
       "      <td>1.000</td>\n",
       "      <td>0.000</td>\n",
       "      <td>Craig W Smalley EA</td>\n",
       "      <td>0.0000</td>\n",
       "      <td>5</td>\n",
       "    </tr>\n",
       "  </tbody>\n",
       "</table>\n",
       "</div>"
      ],
      "text/plain": [
       "                      Actual Date        Date Media Sources  Negative  \\\n",
       "0  Wed Jan 17 07:22:25 +0000 2018  2018-01-17   @QuickBooks     0.100   \n",
       "1  Wed Jan 17 07:08:30 +0000 2018  2018-01-17   @QuickBooks     0.147   \n",
       "2  Wed Jan 17 06:59:22 +0000 2018  2018-01-17   @QuickBooks     0.000   \n",
       "3  Wed Jan 17 06:58:59 +0000 2018  2018-01-17   @QuickBooks     0.000   \n",
       "4  Wed Jan 17 05:36:15 +0000 2018  2018-01-17   @QuickBooks     0.000   \n",
       "\n",
       "   Neutral  Positive      Source Account  Tweet Polarity  Tweets Ago  \n",
       "0    0.667     0.233    Lake Michigan CU          0.3818           1  \n",
       "1    0.650     0.203   Intuit QuickBooks          0.3147           2  \n",
       "2    1.000     0.000  Craig W Smalley EA          0.0000           3  \n",
       "3    0.813     0.187   Intuit QuickBooks          0.5994           4  \n",
       "4    1.000     0.000  Craig W Smalley EA          0.0000           5  "
      ]
     },
     "execution_count": 24,
     "metadata": {},
     "output_type": "execute_result"
    }
   ],
   "source": [
    "sentiments_pd.head()"
   ]
  },
  {
   "cell_type": "code",
   "execution_count": 43,
   "metadata": {},
   "outputs": [
    {
     "data": {
      "text/plain": [
       "array(['Lake Michigan CU', 'Intuit QuickBooks', 'Craig W Smalley EA',\n",
       "       'Evan Michael Ortiz', 'Kevin (Probably) Saves the World',\n",
       "       'Pete Zimek', 'Stripe', 'Nikita Bhambhani', 'QuickBooksCares',\n",
       "       'Intuit', 'Hubdoc', 'Meredith Cook', 'Maggie K.', 'Steve Reynard',\n",
       "       'Michael Levin', 'Method', 'Daniel Barnett', 'Power BI',\n",
       "       'SimpleGrowth', 'Zoho', 'Agni Sharman', 'Himank Bhardwaj', 'K Shah',\n",
       "       'GST Tech', 'The Profitable Firm', 'Xero accounting app',\n",
       "       'STEVEN LEANEY', 'Claire Willmott', 'Brooke Pengelly', 'Erin Adams',\n",
       "       'Idealog', 'Heather Smith', 'The Mind Lab', 'Jessica Samson-Doel',\n",
       "       'Jason Forbes', 'Receipt Bank', 'Bill Kimball', 'Wagepoint',\n",
       "       'Keri Gohman', 'Vicky Skipp', 'Wave HQ', 'Great Place to Work',\n",
       "       'Matt Mastracci 🤔', '👨🏾\\u200d🚀 - Dad Driven Developer', 'Eric',\n",
       "       'Altrincham HQ', 'UnlimitedBS.ca', 'Rhonda Abrams', 'Kris Hans ✌️',\n",
       "       'David Axler', 'OMERS Ventures', 'Benevity', 'League',\n",
       "       'Ashira Lapin Gobrin', 'GetApp Accounting', 'KarmaCake',\n",
       "       'Techvibes', 'CriticalThinker', 'dapshore'], dtype=object)"
      ]
     },
     "execution_count": 43,
     "metadata": {},
     "output_type": "execute_result"
    }
   ],
   "source": [
    "sentiments_pd['Source Account'].unique()"
   ]
  },
  {
   "cell_type": "code",
   "execution_count": 65,
   "metadata": {},
   "outputs": [
    {
     "data": {
      "text/plain": [
       "Counter({'Intuit': 15,\n",
       "         'Intuit QuickBooks': 555,\n",
       "         'Wave HQ': 465,\n",
       "         'Xero accounting app': 510,\n",
       "         'Zoho': 30})"
      ]
     },
     "execution_count": 65,
     "metadata": {},
     "output_type": "execute_result"
    }
   ],
   "source": [
    "a = sentiments_pd.set_index('Source Account')\n",
    "a = a.loc[['Wave HQ', 'Intuit QuickBooks', 'Xero accounting app', 'Zoho', 'Intuit']]\n",
    "a = a.reset_index()\n",
    "a.head()\n",
    "Counter(a['Source Account'])"
   ]
  },
  {
   "cell_type": "code",
   "execution_count": 20,
   "metadata": {
    "collapsed": true
   },
   "outputs": [],
   "source": [
    "grouped_sentiment = sentiments_pd.groupby('Media Sources')\n",
    "grouped_sentiment_mean = grouped_sentiment['Tweet Polarity'].mean()\n",
    "pd."
   ]
  }
 ],
 "metadata": {
  "kernelspec": {
   "display_name": "Python 3",
   "language": "python",
   "name": "python3"
  },
  "language_info": {
   "codemirror_mode": {
    "name": "ipython",
    "version": 3
   },
   "file_extension": ".py",
   "mimetype": "text/x-python",
   "name": "python",
   "nbconvert_exporter": "python",
   "pygments_lexer": "ipython3",
   "version": "3.6.3"
  }
 },
 "nbformat": 4,
 "nbformat_minor": 2
}
